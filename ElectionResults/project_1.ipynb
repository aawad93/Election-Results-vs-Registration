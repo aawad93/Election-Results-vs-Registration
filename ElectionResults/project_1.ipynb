{
 "cells": [
  {
   "cell_type": "code",
   "execution_count": 7,
   "metadata": {},
   "outputs": [],
   "source": [
    "import pandas as pd \n",
    "import csv \n",
    "import matplotlib as plt\n",
    "\n",
    "election_data12=pd.read_csv(\"state_g12_sov_data_by_g12_srprec.csv\")\n",
    "election_data14=pd.read_csv(\"state_g14_sov_data_by_g14_srprec.csv\")\n",
    "election_data16=pd.read_csv(\"state_g16_sov_data_by_g16_srprec.csv\")\n",
    "election_data18=pd.read_csv(\"state_g18_sov_data_by_g18_srprec.csv\")\n",
    "#election_data_total=\n"
   ]
  },
  {
   "cell_type": "code",
   "execution_count": null,
   "metadata": {},
   "outputs": [],
   "source": []
  },
  {
   "cell_type": "code",
   "execution_count": null,
   "metadata": {},
   "outputs": [],
   "source": []
  }
 ],
 "metadata": {
  "kernelspec": {
   "display_name": "Python 3",
   "language": "python",
   "name": "python3"
  },
  "language_info": {
   "codemirror_mode": {
    "name": "ipython",
    "version": 3
   },
   "file_extension": ".py",
   "mimetype": "text/x-python",
   "name": "python",
   "nbconvert_exporter": "python",
   "pygments_lexer": "ipython3",
   "version": "3.7.3"
  }
 },
 "nbformat": 4,
 "nbformat_minor": 2
}
